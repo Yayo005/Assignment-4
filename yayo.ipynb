{
 "cells": [
  {
   "cell_type": "code",
   "execution_count": 1,
   "metadata": {},
   "outputs": [
    {
     "name": "stdout",
     "output_type": "stream",
     "text": [
      "Connection established\n",
      "Read 1 row(s) of data.\n",
      "Data row = (DELTA, 2,165,547, 2,080,624)\n",
      "Done.\n"
     ]
    }
   ],
   "source": [
    "import mysql.connector\n",
    "from mysql.connector import errorcode\n",
    "\n",
    "# Obtain connection string information from the portal\n",
    "config = {\n",
    "  'host':'yayoayomide.mysql.database.azure.com',\n",
    "  'user':'yayo123@yayoayomide',\n",
    "  'password':'Mayowami2001',\n",
    "  'database':'yayo'\n",
    "}\n",
    "\n",
    "\n",
    "# Construct connection string\n",
    "try:\n",
    "   conn = mysql.connector.connect(**config)\n",
    "   print(\"Connection established\")\n",
    "except mysql.connector.Error as err:\n",
    "  if err.errno == errorcode.ER_ACCESS_DENIED_ERROR:\n",
    "    print(\"Something is wrong with the user name or password\")\n",
    "  elif err.errno == errorcode.ER_BAD_DB_ERROR:\n",
    "    print(\"Database does not exist\")\n",
    "  else:\n",
    "    print(err)\n",
    "else:\n",
    "  cursor = conn.cursor()\n",
    "\n",
    "  # Read data\n",
    "  cursor.execute(\"SELECT * FROM stats WHERE STATE = 'Delta';\")\n",
    "  rows = cursor.fetchall()\n",
    "  print(\"Read\",cursor.rowcount,\"row(s) of data.\")\n",
    "\n",
    "  # Print all rows\n",
    "  for row in rows:\n",
    "  \tprint(\"Data row = (%s, %s, %s)\" %(str(row[0]), str(row[1]), str(row[2])))\n",
    "\n",
    "  # Cleanup\n",
    "  conn.commit()\n",
    "  cursor.close()\n",
    "  conn.close()\n",
    "  print(\"Done.\")"
   ]
  },
  {
   "cell_type": "code",
   "execution_count": null,
   "metadata": {},
   "outputs": [],
   "source": []
  },
  {
   "cell_type": "code",
   "execution_count": null,
   "metadata": {},
   "outputs": [],
   "source": []
  }
 ],
 "metadata": {
  "kernelspec": {
   "display_name": "Python 3",
   "language": "python",
   "name": "python3"
  },
  "language_info": {
   "codemirror_mode": {
    "name": "ipython",
    "version": 3
   },
   "file_extension": ".py",
   "mimetype": "text/x-python",
   "name": "python",
   "nbconvert_exporter": "python",
   "pygments_lexer": "ipython3",
   "version": "3.8.5"
  }
 },
 "nbformat": 4,
 "nbformat_minor": 4
}
